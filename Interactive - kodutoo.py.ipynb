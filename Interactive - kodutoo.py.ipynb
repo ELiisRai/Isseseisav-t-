{
 "cells": [
  {
   "cell_type": "code",
   "execution_count": 4,
   "metadata": {},
   "outputs": [
    {
     "name": "stdout",
     "output_type": "stream",
     "text": [
      "\n",
      "Maa raadius ekvaatori kohal on 6378 km. Siis...\n"
     ]
    },
    {
     "ename": "TypeError",
     "evalue": "can only concatenate str (not \"int\") to str",
     "output_type": "error",
     "traceback": [
      "\u001b[0;31m---------------------------------------------------------------------------\u001b[0m",
      "\u001b[0;31mTypeError\u001b[0m                                 Traceback (most recent call last)",
      "\u001b[1;32m/Users/elina-liisrais/Desktop/kodutoo.py\u001b[0m in \u001b[0;36mline 3\n\u001b[1;32m      <a href='file:///Users/elina-liisrais/Desktop/kodutoo.py?line=11'>12</a>\u001b[0m \u001b[39mprint\u001b[39m(\u001b[39m\"\u001b[39m\u001b[39m\\n\u001b[39;00m\u001b[39mMaa raadius ekvaatori kohal on 6378 km. Siis...\u001b[39m\u001b[39m\"\u001b[39m)\n\u001b[1;32m      <a href='file:///Users/elina-liisrais/Desktop/kodutoo.py?line=12'>13</a>\u001b[0m mu\u001b[39m=\u001b[39m\u001b[39m6378\u001b[39m\u001b[39m*\u001b[39m\u001b[39m8\u001b[39m\n\u001b[0;32m----> <a href='file:///Users/elina-liisrais/Desktop/kodutoo.py?line=13'>14</a>\u001b[0m \u001b[39mfloat\u001b[39m(\u001b[39m\"\u001b[39;49m\u001b[39mSee tahendab, et maa umbermoot = \u001b[39;49m\u001b[39m\"\u001b[39;49m \u001b[39m+\u001b[39;49m mu)\n\u001b[1;32m      <a href='file:///Users/elina-liisrais/Desktop/kodutoo.py?line=14'>15</a>\u001b[0m \u001b[39mprint\u001b[39m(\u001b[39m\"\u001b[39m\u001b[39m2 euro = d = 25,75 mm\u001b[39m\u001b[39m\"\u001b[39m)\n\u001b[1;32m      <a href='file:///Users/elina-liisrais/Desktop/kodutoo.py?line=15'>16</a>\u001b[0m d\u001b[39m=\u001b[39mmu\u001b[39m/\u001b[39m\u001b[39m0.00002575\u001b[39m\n",
      "\u001b[0;31mTypeError\u001b[0m: can only concatenate str (not \"int\") to str"
     ]
    }
   ],
   "source": [
    "print(\"\\nMaa raadius ekvaatori kohal on 6378 km. Siis...\")\n",
    "mu=6378*8\n",
    "float(\"See tahendab, et maa umbermoot = \" + mu)\n",
    "print(\"2 euro = d = 25,75 mm\")\n",
    "d=mu/0.00002575\n",
    "float(round(d,0) + \"- munte on vaja, et rida ulatuks umber maa \")"
   ]
  }
 ],
 "metadata": {
  "kernelspec": {
   "display_name": "Python 3",
   "language": "python",
   "name": "python3"
  },
  "language_info": {
   "name": "python",
   "version": "3.9.6"
  }
 },
 "nbformat": 4,
 "nbformat_minor": 2
}
